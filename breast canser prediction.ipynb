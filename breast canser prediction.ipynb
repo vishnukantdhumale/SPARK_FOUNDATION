{
 "cells": [
  {
   "cell_type": "code",
   "execution_count": 34,
   "id": "6f2243cc",
   "metadata": {},
   "outputs": [],
   "source": [
    "import pandas as pd\n",
    "import numpy as np\n",
    "import matplotlib.pyplot as plt"
   ]
  },
  {
   "cell_type": "code",
   "execution_count": 35,
   "id": "7c991f1b",
   "metadata": {},
   "outputs": [],
   "source": [
    "df=pd.read_csv(r\"C:\\Users\\vishnu\\Desktop\\Covid_Data_new - Covid_Data_new.csv\")"
   ]
  },
  {
   "cell_type": "code",
   "execution_count": 36,
   "id": "27120c65",
   "metadata": {},
   "outputs": [
    {
     "data": {
      "text/html": [
       "<div>\n",
       "<style scoped>\n",
       "    .dataframe tbody tr th:only-of-type {\n",
       "        vertical-align: middle;\n",
       "    }\n",
       "\n",
       "    .dataframe tbody tr th {\n",
       "        vertical-align: top;\n",
       "    }\n",
       "\n",
       "    .dataframe thead th {\n",
       "        text-align: right;\n",
       "    }\n",
       "</style>\n",
       "<table border=\"1\" class=\"dataframe\">\n",
       "  <thead>\n",
       "    <tr style=\"text-align: right;\">\n",
       "      <th></th>\n",
       "      <th>age</th>\n",
       "      <th>body_temperature</th>\n",
       "      <th>chronic_disease</th>\n",
       "      <th>breathing_issue</th>\n",
       "      <th>Blood O2 Level in Percentage</th>\n",
       "      <th>Needed Hospitalization</th>\n",
       "    </tr>\n",
       "  </thead>\n",
       "  <tbody>\n",
       "    <tr>\n",
       "      <th>0</th>\n",
       "      <td>10.0</td>\n",
       "      <td>Normal</td>\n",
       "      <td>no</td>\n",
       "      <td>no</td>\n",
       "      <td>97.0</td>\n",
       "      <td>No</td>\n",
       "    </tr>\n",
       "    <tr>\n",
       "      <th>1</th>\n",
       "      <td>12.0</td>\n",
       "      <td>Normal</td>\n",
       "      <td>no</td>\n",
       "      <td>no</td>\n",
       "      <td>97.0</td>\n",
       "      <td>No</td>\n",
       "    </tr>\n",
       "    <tr>\n",
       "      <th>2</th>\n",
       "      <td>15.0</td>\n",
       "      <td>Normal</td>\n",
       "      <td>no</td>\n",
       "      <td>no</td>\n",
       "      <td>94.0</td>\n",
       "      <td>No</td>\n",
       "    </tr>\n",
       "    <tr>\n",
       "      <th>3</th>\n",
       "      <td>10.0</td>\n",
       "      <td>Normal</td>\n",
       "      <td>no</td>\n",
       "      <td>no</td>\n",
       "      <td>97.0</td>\n",
       "      <td>No</td>\n",
       "    </tr>\n",
       "    <tr>\n",
       "      <th>4</th>\n",
       "      <td>13.0</td>\n",
       "      <td>Moderate</td>\n",
       "      <td>no</td>\n",
       "      <td>no</td>\n",
       "      <td>94.0</td>\n",
       "      <td>No</td>\n",
       "    </tr>\n",
       "  </tbody>\n",
       "</table>\n",
       "</div>"
      ],
      "text/plain": [
       "    age body_temperature chronic_disease breathing_issue  \\\n",
       "0  10.0           Normal              no              no   \n",
       "1  12.0           Normal              no              no   \n",
       "2  15.0           Normal              no              no   \n",
       "3  10.0           Normal              no              no   \n",
       "4  13.0         Moderate              no              no   \n",
       "\n",
       "   Blood O2 Level in Percentage Needed Hospitalization  \n",
       "0                          97.0                     No  \n",
       "1                          97.0                     No  \n",
       "2                          94.0                     No  \n",
       "3                          97.0                     No  \n",
       "4                          94.0                     No  "
      ]
     },
     "execution_count": 36,
     "metadata": {},
     "output_type": "execute_result"
    }
   ],
   "source": [
    "df.head()"
   ]
  },
  {
   "cell_type": "code",
   "execution_count": 37,
   "id": "c93fd6b0",
   "metadata": {},
   "outputs": [
    {
     "data": {
      "text/plain": [
       "(70, 6)"
      ]
     },
     "execution_count": 37,
     "metadata": {},
     "output_type": "execute_result"
    }
   ],
   "source": [
    "df.shape"
   ]
  },
  {
   "cell_type": "code",
   "execution_count": 38,
   "id": "8e6d75d5",
   "metadata": {},
   "outputs": [
    {
     "data": {
      "text/plain": [
       "age                             1\n",
       "body_temperature                0\n",
       "chronic_disease                 0\n",
       "breathing_issue                 0\n",
       "Blood O2 Level in Percentage    1\n",
       "Needed Hospitalization          0\n",
       "dtype: int64"
      ]
     },
     "execution_count": 38,
     "metadata": {},
     "output_type": "execute_result"
    }
   ],
   "source": [
    "df.isnull().sum()"
   ]
  },
  {
   "cell_type": "code",
   "execution_count": 39,
   "id": "333dbe64",
   "metadata": {},
   "outputs": [
    {
     "data": {
      "text/html": [
       "<div>\n",
       "<style scoped>\n",
       "    .dataframe tbody tr th:only-of-type {\n",
       "        vertical-align: middle;\n",
       "    }\n",
       "\n",
       "    .dataframe tbody tr th {\n",
       "        vertical-align: top;\n",
       "    }\n",
       "\n",
       "    .dataframe thead th {\n",
       "        text-align: right;\n",
       "    }\n",
       "</style>\n",
       "<table border=\"1\" class=\"dataframe\">\n",
       "  <thead>\n",
       "    <tr style=\"text-align: right;\">\n",
       "      <th></th>\n",
       "      <th>age</th>\n",
       "      <th>Blood O2 Level in Percentage</th>\n",
       "    </tr>\n",
       "  </thead>\n",
       "  <tbody>\n",
       "    <tr>\n",
       "      <th>count</th>\n",
       "      <td>69.000000</td>\n",
       "      <td>69.000000</td>\n",
       "    </tr>\n",
       "    <tr>\n",
       "      <th>mean</th>\n",
       "      <td>45.130435</td>\n",
       "      <td>82.072464</td>\n",
       "    </tr>\n",
       "    <tr>\n",
       "      <th>std</th>\n",
       "      <td>24.223781</td>\n",
       "      <td>11.702587</td>\n",
       "    </tr>\n",
       "    <tr>\n",
       "      <th>min</th>\n",
       "      <td>10.000000</td>\n",
       "      <td>53.000000</td>\n",
       "    </tr>\n",
       "    <tr>\n",
       "      <th>25%</th>\n",
       "      <td>25.000000</td>\n",
       "      <td>72.000000</td>\n",
       "    </tr>\n",
       "    <tr>\n",
       "      <th>50%</th>\n",
       "      <td>42.000000</td>\n",
       "      <td>86.000000</td>\n",
       "    </tr>\n",
       "    <tr>\n",
       "      <th>75%</th>\n",
       "      <td>62.000000</td>\n",
       "      <td>92.000000</td>\n",
       "    </tr>\n",
       "    <tr>\n",
       "      <th>max</th>\n",
       "      <td>94.000000</td>\n",
       "      <td>99.000000</td>\n",
       "    </tr>\n",
       "  </tbody>\n",
       "</table>\n",
       "</div>"
      ],
      "text/plain": [
       "             age  Blood O2 Level in Percentage\n",
       "count  69.000000                     69.000000\n",
       "mean   45.130435                     82.072464\n",
       "std    24.223781                     11.702587\n",
       "min    10.000000                     53.000000\n",
       "25%    25.000000                     72.000000\n",
       "50%    42.000000                     86.000000\n",
       "75%    62.000000                     92.000000\n",
       "max    94.000000                     99.000000"
      ]
     },
     "execution_count": 39,
     "metadata": {},
     "output_type": "execute_result"
    }
   ],
   "source": [
    "df.describe()"
   ]
  },
  {
   "cell_type": "code",
   "execution_count": 40,
   "id": "5aabebba",
   "metadata": {},
   "outputs": [
    {
     "data": {
      "text/plain": [
       "0     10.0\n",
       "1     12.0\n",
       "2     15.0\n",
       "3     10.0\n",
       "4     13.0\n",
       "      ... \n",
       "65    86.0\n",
       "66    61.0\n",
       "67    94.0\n",
       "68    81.0\n",
       "69    76.0\n",
       "Name: age, Length: 70, dtype: float64"
      ]
     },
     "execution_count": 40,
     "metadata": {},
     "output_type": "execute_result"
    }
   ],
   "source": [
    "df[\"age\"].fillna(df[\"age\"].mean())"
   ]
  },
  {
   "cell_type": "code",
   "execution_count": 41,
   "id": "e1b83cbd",
   "metadata": {},
   "outputs": [
    {
     "data": {
      "text/plain": [
       "0     10.0\n",
       "1     12.0\n",
       "2     15.0\n",
       "3     10.0\n",
       "4     13.0\n",
       "      ... \n",
       "65    86.0\n",
       "66    61.0\n",
       "67    94.0\n",
       "68    81.0\n",
       "69    76.0\n",
       "Name: age, Length: 70, dtype: float64"
      ]
     },
     "execution_count": 41,
     "metadata": {},
     "output_type": "execute_result"
    }
   ],
   "source": [
    "df[\"age\"].fillna(df[\"Blood O2 Level in Percentage\"].mean())"
   ]
  },
  {
   "cell_type": "code",
   "execution_count": 60,
   "id": "26229698",
   "metadata": {},
   "outputs": [
    {
     "data": {
      "text/plain": [
       "age                             1\n",
       "body_temperature                0\n",
       "chronic_disease                 0\n",
       "breathing_issue                 0\n",
       "Blood O2 Level in Percentage    1\n",
       "Needed Hospitalization          0\n",
       "dtype: int64"
      ]
     },
     "execution_count": 60,
     "metadata": {},
     "output_type": "execute_result"
    }
   ],
   "source": [
    "df.isnull().sum()"
   ]
  },
  {
   "cell_type": "code",
   "execution_count": 61,
   "id": "edadff7e",
   "metadata": {},
   "outputs": [
    {
     "name": "stdout",
     "output_type": "stream",
     "text": [
      "     age body_temperature chronic_disease breathing_issue  \\\n",
      "0   10.0           Normal              no              no   \n",
      "1   12.0           Normal              no              no   \n",
      "2   15.0           Normal              no              no   \n",
      "3   10.0           Normal              no              no   \n",
      "4   13.0         Moderate              no              no   \n",
      "..   ...              ...             ...             ...   \n",
      "65  86.0             High              no             yes   \n",
      "66  61.0         Moderate              no             yes   \n",
      "67  94.0             High             yes             yes   \n",
      "68  81.0             High             yes             yes   \n",
      "69  76.0             High             yes             yes   \n",
      "\n",
      "    Blood O2 Level in Percentage Needed Hospitalization  \n",
      "0                           97.0                     No  \n",
      "1                           97.0                     No  \n",
      "2                           94.0                     No  \n",
      "3                           97.0                     No  \n",
      "4                           94.0                     No  \n",
      "..                           ...                    ...  \n",
      "65                          76.0                    Yes  \n",
      "66                          90.0                     No  \n",
      "67                          64.0                    Yes  \n",
      "68                          75.0                    Yes  \n",
      "69                          80.0                    Yes  \n",
      "\n",
      "[68 rows x 6 columns]\n"
     ]
    }
   ],
   "source": [
    "miss_value=df.dropna()\n",
    "print(miss_value)\n"
   ]
  },
  {
   "cell_type": "markdown",
   "id": "535e7220",
   "metadata": {},
   "source": [
    "dropping all the values  whenever there any missing values"
   ]
  },
  {
   "cell_type": "code",
   "execution_count": 62,
   "id": "d48d4671",
   "metadata": {},
   "outputs": [
    {
     "data": {
      "text/plain": [
       "(26, 6)"
      ]
     },
     "execution_count": 62,
     "metadata": {},
     "output_type": "execute_result"
    }
   ],
   "source": [
    "train=miss_value[0:42]\n",
    "test=miss_value[42:]\n",
    "test.shape"
   ]
  },
  {
   "cell_type": "code",
   "execution_count": 63,
   "id": "3a570f1a",
   "metadata": {},
   "outputs": [
    {
     "data": {
      "text/plain": [
       "(42, 6)"
      ]
     },
     "execution_count": 63,
     "metadata": {},
     "output_type": "execute_result"
    }
   ],
   "source": [
    "train.shape"
   ]
  },
  {
   "cell_type": "code",
   "execution_count": 66,
   "id": "6d83dd8f",
   "metadata": {},
   "outputs": [],
   "source": [
    "xx_train=train.drop(\"Needed Hospitalization\",axis= 1)\n",
    "yy_train=train[\"Needed Hospitalization\"]\n",
    "xx_test=test.drop(\"Needed Hospitalization\",axis= 1)\n",
    "yy_test=test[\"Needed Hospitalization\"]\n"
   ]
  },
  {
   "cell_type": "code",
   "execution_count": 87,
   "id": "303e51cf",
   "metadata": {},
   "outputs": [],
   "source": [
    "x_train=pd.get_dummies(xx_train)\n",
    "x_test=pd.get_dummies(xx_test)\n"
   ]
  },
  {
   "cell_type": "code",
   "execution_count": 98,
   "id": "26d1f88b",
   "metadata": {},
   "outputs": [],
   "source": [
    "from sklearn.preprocessing import LabelEncoder\n",
    "le = LabelEncoder()\n",
    "y_train = le.fit_transform(yy_train)\n",
    "y_test = le.fit_transform(yy_test)"
   ]
  },
  {
   "cell_type": "code",
   "execution_count": 99,
   "id": "2a728703",
   "metadata": {},
   "outputs": [
    {
     "name": "stdout",
     "output_type": "stream",
     "text": [
      "[0 0 0 0 0 0 0 0 1 0 0 0 0 0 0 0 0 0 0 0 1 0 0 0 0 0 0 0 0 1 0 0 0 0 0 1 1\n",
      " 0 1 1 1 1]\n"
     ]
    }
   ],
   "source": [
    "print(y_train)"
   ]
  },
  {
   "cell_type": "code",
   "execution_count": 100,
   "id": "e58be86f",
   "metadata": {},
   "outputs": [],
   "source": [
    "from sklearn.linear_model import LogisticRegression"
   ]
  },
  {
   "cell_type": "code",
   "execution_count": 101,
   "id": "b947a805",
   "metadata": {},
   "outputs": [
    {
     "data": {
      "text/plain": [
       "LogisticRegression()"
      ]
     },
     "execution_count": 101,
     "metadata": {},
     "output_type": "execute_result"
    }
   ],
   "source": [
    "logreg=LogisticRegression()\n",
    "logreg.fit(x_train,y_train)"
   ]
  },
  {
   "cell_type": "code",
   "execution_count": null,
   "id": "f66807fd",
   "metadata": {},
   "outputs": [],
   "source": [
    "\n"
   ]
  },
  {
   "cell_type": "code",
   "execution_count": 102,
   "id": "a6889c61",
   "metadata": {},
   "outputs": [
    {
     "name": "stdout",
     "output_type": "stream",
     "text": [
      "[1 1 1 1 1 1 1 1 1 0 1 1 1 1 1 1 0 1 1 1 1 1 0 1 1 1]\n"
     ]
    }
   ],
   "source": [
    "print(y_test)"
   ]
  },
  {
   "cell_type": "code",
   "execution_count": 103,
   "id": "73f66f8f",
   "metadata": {},
   "outputs": [],
   "source": [
    "pred=logreg.predict(x_test)"
   ]
  },
  {
   "cell_type": "code",
   "execution_count": 104,
   "id": "373c367f",
   "metadata": {},
   "outputs": [
    {
     "name": "stdout",
     "output_type": "stream",
     "text": [
      "[1 1 1 1 1 1 1 1 1 1 1 1 1 1 1 1 1 1 1 1 1 1 1 1 1 1]\n"
     ]
    }
   ],
   "source": [
    "print(pred)"
   ]
  },
  {
   "cell_type": "code",
   "execution_count": 105,
   "id": "34957d73",
   "metadata": {},
   "outputs": [
    {
     "data": {
      "text/plain": [
       "0.8846153846153846"
      ]
     },
     "execution_count": 105,
     "metadata": {},
     "output_type": "execute_result"
    }
   ],
   "source": [
    "logreg.score(x_test,y_test)"
   ]
  },
  {
   "cell_type": "code",
   "execution_count": 106,
   "id": "eb48f4c2",
   "metadata": {},
   "outputs": [
    {
     "data": {
      "text/plain": [
       "1.0"
      ]
     },
     "execution_count": 106,
     "metadata": {},
     "output_type": "execute_result"
    }
   ],
   "source": [
    "logreg.score(x_train,y_train)"
   ]
  },
  {
   "cell_type": "code",
   "execution_count": null,
   "id": "549f7c57",
   "metadata": {},
   "outputs": [],
   "source": []
  }
 ],
 "metadata": {
  "kernelspec": {
   "display_name": "Python 3",
   "language": "python",
   "name": "python3"
  },
  "language_info": {
   "codemirror_mode": {
    "name": "ipython",
    "version": 3
   },
   "file_extension": ".py",
   "mimetype": "text/x-python",
   "name": "python",
   "nbconvert_exporter": "python",
   "pygments_lexer": "ipython3",
   "version": "3.8.8"
  }
 },
 "nbformat": 4,
 "nbformat_minor": 5
}
