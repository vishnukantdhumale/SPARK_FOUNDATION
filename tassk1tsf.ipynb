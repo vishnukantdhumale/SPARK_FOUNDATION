{
 "cells": [
  {
   "cell_type": "markdown",
   "id": "1f76b622",
   "metadata": {},
   "source": [
    "# ** PREDICTION USING SUPERVISED MACHINE LEARNING**\n",
    "(BEGINNER LEVEL)"
   ]
  },
  {
   "cell_type": "markdown",
   "id": "9003b8c9",
   "metadata": {},
   "source": [
    "PROBLEM STATEMENT:\n",
    "PREDICT THE PERCENTAGE OF STUDENT  BASED ON THE NUMBER OF STUDY HOURS"
   ]
  },
  {
   "cell_type": "markdown",
   "id": "c5fd190f",
   "metadata": {},
   "source": [
    "IMPORTING THE NECESSARY LIBRARIES"
   ]
  },
  {
   "cell_type": "code",
   "execution_count": 1,
   "id": "148c3ded",
   "metadata": {},
   "outputs": [],
   "source": [
    "#importing necessary libraries\n",
    "import  pandas as pd\n",
    "import numpy as np\n",
    "import matplotlib.pyplot as plt\n",
    "%matplotlib inline"
   ]
  },
  {
   "cell_type": "markdown",
   "id": "98b5a8e8",
   "metadata": {},
   "source": [
    "libraries imported sucessfully"
   ]
  },
  {
   "cell_type": "markdown",
   "id": "f793ae66",
   "metadata": {},
   "source": [
    "the given file is in csv format\n",
    "reading the data in pandas"
   ]
  },
  {
   "cell_type": "code",
   "execution_count": 2,
   "id": "2044769b",
   "metadata": {},
   "outputs": [
    {
     "data": {
      "text/html": [
       "<div>\n",
       "<style scoped>\n",
       "    .dataframe tbody tr th:only-of-type {\n",
       "        vertical-align: middle;\n",
       "    }\n",
       "\n",
       "    .dataframe tbody tr th {\n",
       "        vertical-align: top;\n",
       "    }\n",
       "\n",
       "    .dataframe thead th {\n",
       "        text-align: right;\n",
       "    }\n",
       "</style>\n",
       "<table border=\"1\" class=\"dataframe\">\n",
       "  <thead>\n",
       "    <tr style=\"text-align: right;\">\n",
       "      <th></th>\n",
       "      <th>Hours</th>\n",
       "      <th>Scores</th>\n",
       "    </tr>\n",
       "  </thead>\n",
       "  <tbody>\n",
       "    <tr>\n",
       "      <th>0</th>\n",
       "      <td>2.5</td>\n",
       "      <td>21</td>\n",
       "    </tr>\n",
       "    <tr>\n",
       "      <th>1</th>\n",
       "      <td>5.1</td>\n",
       "      <td>47</td>\n",
       "    </tr>\n",
       "    <tr>\n",
       "      <th>2</th>\n",
       "      <td>3.2</td>\n",
       "      <td>27</td>\n",
       "    </tr>\n",
       "    <tr>\n",
       "      <th>3</th>\n",
       "      <td>8.5</td>\n",
       "      <td>75</td>\n",
       "    </tr>\n",
       "    <tr>\n",
       "      <th>4</th>\n",
       "      <td>3.5</td>\n",
       "      <td>30</td>\n",
       "    </tr>\n",
       "  </tbody>\n",
       "</table>\n",
       "</div>"
      ],
      "text/plain": [
       "   Hours  Scores\n",
       "0    2.5      21\n",
       "1    5.1      47\n",
       "2    3.2      27\n",
       "3    8.5      75\n",
       "4    3.5      30"
      ]
     },
     "execution_count": 2,
     "metadata": {},
     "output_type": "execute_result"
    }
   ],
   "source": [
    "#reading the dataset using pandas \n",
    "link='http://bit.ly/w-data'\n",
    "df=pd.read_csv(link)\n",
    "df.head()"
   ]
  },
  {
   "cell_type": "markdown",
   "id": "004ec007",
   "metadata": {},
   "source": [
    "data read sucessfully in pandas and stored it in 'df' variable"
   ]
  },
  {
   "cell_type": "code",
   "execution_count": 3,
   "id": "b36eff4b",
   "metadata": {},
   "outputs": [
    {
     "data": {
      "text/plain": [
       "(25, 2)"
      ]
     },
     "execution_count": 3,
     "metadata": {},
     "output_type": "execute_result"
    }
   ],
   "source": [
    "#cheking shape of given data\n",
    "df.shape"
   ]
  },
  {
   "cell_type": "markdown",
   "id": "8cc222b0",
   "metadata": {},
   "source": [
    "there are about 25 rows and 2 columns this is pretty simple example"
   ]
  },
  {
   "cell_type": "markdown",
   "id": "ab1fe1ce",
   "metadata": {},
   "source": [
    "now chek is their any missing value in data set if yes we replace it by some appropriate value"
   ]
  },
  {
   "cell_type": "code",
   "execution_count": 4,
   "id": "b9dbb5fe",
   "metadata": {},
   "outputs": [
    {
     "data": {
      "text/plain": [
       "Hours     0\n",
       "Scores    0\n",
       "dtype: int64"
      ]
     },
     "execution_count": 4,
     "metadata": {},
     "output_type": "execute_result"
    }
   ],
   "source": [
    "df.isnull().sum()"
   ]
  },
  {
   "cell_type": "markdown",
   "id": "038c2ee0",
   "metadata": {},
   "source": [
    "from above its cleared that there is no null value in the data set"
   ]
  },
  {
   "cell_type": "markdown",
   "id": "e27aa3f4",
   "metadata": {},
   "source": [
    "# ploting the graphs to chek relation between the hours and scores"
   ]
  },
  {
   "cell_type": "markdown",
   "id": "9411c468",
   "metadata": {},
   "source": [
    "now cheking the relation between the hours and scores by ploting the graph"
   ]
  },
  {
   "cell_type": "code",
   "execution_count": 26,
   "id": "89e4f8d9",
   "metadata": {},
   "outputs": [
    {
     "data": {
      "image/png": "[encoded data removed]",
      "text/plain": [
       "<Figure size 432x288 with 1 Axes>"
      ]
     },
     "metadata": {
      "needs_background": "light"
     },
     "output_type": "display_data"
    }
   ],
   "source": [
    "df.plot(x='Hours',y='Scores',style='o')\n",
    "plt.title('HOURS VS SCORES')\n",
    "plt.xlabel('Hours studied')\n",
    "plt.ylabel('percentage Scored')\n",
    "plt.show()"
   ]
  },
  {
   "cell_type": "markdown",
   "id": "8794047b",
   "metadata": {},
   "source": [
    "from above graph its cleared that there is linear relationship between student scores and study hours"
   ]
  },
  {
   "cell_type": "markdown",
   "id": "7af68882",
   "metadata": {},
   "source": [
    "to chek correlation among the data set"
   ]
  },
  {
   "cell_type": "code",
   "execution_count": 29,
   "id": "7274e8bb",
   "metadata": {},
   "outputs": [
    {
     "data": {
      "text/html": [
       "<div>\n",
       "<style scoped>\n",
       "    .dataframe tbody tr th:only-of-type {\n",
       "        vertical-align: middle;\n",
       "    }\n",
       "\n",
       "    .dataframe tbody tr th {\n",
       "        vertical-align: top;\n",
       "    }\n",
       "\n",
       "    .dataframe thead th {\n",
       "        text-align: right;\n",
       "    }\n",
       "</style>\n",
       "<table border=\"1\" class=\"dataframe\">\n",
       "  <thead>\n",
       "    <tr style=\"text-align: right;\">\n",
       "      <th></th>\n",
       "      <th>Hours</th>\n",
       "      <th>Scores</th>\n",
       "    </tr>\n",
       "  </thead>\n",
       "  <tbody>\n",
       "    <tr>\n",
       "      <th>Hours</th>\n",
       "      <td>1.000000</td>\n",
       "      <td>0.976191</td>\n",
       "    </tr>\n",
       "    <tr>\n",
       "      <th>Scores</th>\n",
       "      <td>0.976191</td>\n",
       "      <td>1.000000</td>\n",
       "    </tr>\n",
       "  </tbody>\n",
       "</table>\n",
       "</div>"
      ],
      "text/plain": [
       "           Hours    Scores\n",
       "Hours   1.000000  0.976191\n",
       "Scores  0.976191  1.000000"
      ]
     },
     "execution_count": 29,
     "metadata": {},
     "output_type": "execute_result"
    }
   ],
   "source": [
    "df.corr()"
   ]
  },
  {
   "cell_type": "markdown",
   "id": "fb8dda4f",
   "metadata": {},
   "source": [
    "from above its cleared that there is strong corelation btween the hours and scores"
   ]
  },
  {
   "cell_type": "markdown",
   "id": "f5dfb14f",
   "metadata": {},
   "source": [
    "# seprating the data as train and test data"
   ]
  },
  {
   "cell_type": "markdown",
   "id": "35dabc6b",
   "metadata": {},
   "source": [
    "now seprate the data from \"df\" as train and test"
   ]
  },
  {
   "cell_type": "code",
   "execution_count": 6,
   "id": "48071403",
   "metadata": {},
   "outputs": [],
   "source": [
    "train=df[0:16]\n",
    "test=df[16:26]"
   ]
  },
  {
   "cell_type": "code",
   "execution_count": 7,
   "id": "ce354951",
   "metadata": {},
   "outputs": [
    {
     "data": {
      "text/plain": [
       "(16, 2)"
      ]
     },
     "execution_count": 7,
     "metadata": {},
     "output_type": "execute_result"
    }
   ],
   "source": [
    "#let's chek the shape of train and test data set\n",
    "train.shape"
   ]
  },
  {
   "cell_type": "code",
   "execution_count": 8,
   "id": "5af6414a",
   "metadata": {},
   "outputs": [
    {
     "data": {
      "text/plain": [
       "(9, 2)"
      ]
     },
     "execution_count": 8,
     "metadata": {},
     "output_type": "execute_result"
    }
   ],
   "source": [
    "test.shape"
   ]
  },
  {
   "cell_type": "markdown",
   "id": "ff78775c",
   "metadata": {},
   "source": [
    "hence we seprated data as train and test for training our model"
   ]
  },
  {
   "cell_type": "markdown",
   "id": "b51d66c0",
   "metadata": {},
   "source": [
    "now seprate  data  for training on x and y axis to train hours on x- axis we drop the scores data from training data."
   ]
  },
  {
   "cell_type": "code",
   "execution_count": 9,
   "id": "7c952baa",
   "metadata": {},
   "outputs": [
    {
     "data": {
      "text/html": [
       "<div>\n",
       "<style scoped>\n",
       "    .dataframe tbody tr th:only-of-type {\n",
       "        vertical-align: middle;\n",
       "    }\n",
       "\n",
       "    .dataframe tbody tr th {\n",
       "        vertical-align: top;\n",
       "    }\n",
       "\n",
       "    .dataframe thead th {\n",
       "        text-align: right;\n",
       "    }\n",
       "</style>\n",
       "<table border=\"1\" class=\"dataframe\">\n",
       "  <thead>\n",
       "    <tr style=\"text-align: right;\">\n",
       "      <th></th>\n",
       "      <th>Hours</th>\n",
       "    </tr>\n",
       "  </thead>\n",
       "  <tbody>\n",
       "    <tr>\n",
       "      <th>0</th>\n",
       "      <td>2.5</td>\n",
       "    </tr>\n",
       "    <tr>\n",
       "      <th>1</th>\n",
       "      <td>5.1</td>\n",
       "    </tr>\n",
       "    <tr>\n",
       "      <th>2</th>\n",
       "      <td>3.2</td>\n",
       "    </tr>\n",
       "    <tr>\n",
       "      <th>3</th>\n",
       "      <td>8.5</td>\n",
       "    </tr>\n",
       "    <tr>\n",
       "      <th>4</th>\n",
       "      <td>3.5</td>\n",
       "    </tr>\n",
       "    <tr>\n",
       "      <th>5</th>\n",
       "      <td>1.5</td>\n",
       "    </tr>\n",
       "    <tr>\n",
       "      <th>6</th>\n",
       "      <td>9.2</td>\n",
       "    </tr>\n",
       "    <tr>\n",
       "      <th>7</th>\n",
       "      <td>5.5</td>\n",
       "    </tr>\n",
       "    <tr>\n",
       "      <th>8</th>\n",
       "      <td>8.3</td>\n",
       "    </tr>\n",
       "    <tr>\n",
       "      <th>9</th>\n",
       "      <td>2.7</td>\n",
       "    </tr>\n",
       "    <tr>\n",
       "      <th>10</th>\n",
       "      <td>7.7</td>\n",
       "    </tr>\n",
       "    <tr>\n",
       "      <th>11</th>\n",
       "      <td>5.9</td>\n",
       "    </tr>\n",
       "    <tr>\n",
       "      <th>12</th>\n",
       "      <td>4.5</td>\n",
       "    </tr>\n",
       "    <tr>\n",
       "      <th>13</th>\n",
       "      <td>3.3</td>\n",
       "    </tr>\n",
       "    <tr>\n",
       "      <th>14</th>\n",
       "      <td>1.1</td>\n",
       "    </tr>\n",
       "    <tr>\n",
       "      <th>15</th>\n",
       "      <td>8.9</td>\n",
       "    </tr>\n",
       "  </tbody>\n",
       "</table>\n",
       "</div>"
      ],
      "text/plain": [
       "    Hours\n",
       "0     2.5\n",
       "1     5.1\n",
       "2     3.2\n",
       "3     8.5\n",
       "4     3.5\n",
       "5     1.5\n",
       "6     9.2\n",
       "7     5.5\n",
       "8     8.3\n",
       "9     2.7\n",
       "10    7.7\n",
       "11    5.9\n",
       "12    4.5\n",
       "13    3.3\n",
       "14    1.1\n",
       "15    8.9"
      ]
     },
     "execution_count": 9,
     "metadata": {},
     "output_type": "execute_result"
    }
   ],
   "source": [
    "x_train=train.drop('Scores',axis=1)\n",
    "x_train"
   ]
  },
  {
   "cell_type": "markdown",
   "id": "0d349045",
   "metadata": {},
   "source": [
    "hence x_train now  contain hours of study only"
   ]
  },
  {
   "cell_type": "markdown",
   "id": "d27700e2",
   "metadata": {},
   "source": [
    "now train the data for y axis generally on y-axis we plot dependent variable in this case its scores which we have to predict later"
   ]
  },
  {
   "cell_type": "code",
   "execution_count": 10,
   "id": "45245817",
   "metadata": {},
   "outputs": [
    {
     "data": {
      "text/plain": [
       "0     21\n",
       "1     47\n",
       "2     27\n",
       "3     75\n",
       "4     30\n",
       "5     20\n",
       "6     88\n",
       "7     60\n",
       "8     81\n",
       "9     25\n",
       "10    85\n",
       "11    62\n",
       "12    41\n",
       "13    42\n",
       "14    17\n",
       "15    95\n",
       "Name: Scores, dtype: int64"
      ]
     },
     "execution_count": 10,
     "metadata": {},
     "output_type": "execute_result"
    }
   ],
   "source": [
    "y_train=train['Scores']\n",
    "y_train"
   ]
  },
  {
   "cell_type": "markdown",
   "id": "0ef696bd",
   "metadata": {},
   "source": [
    "y_train contain scores that is our dependent variable"
   ]
  },
  {
   "cell_type": "markdown",
   "id": "b82187d5",
   "metadata": {},
   "source": [
    "now also from test drop scores which we store in next step as true prediction to chek with model prediction"
   ]
  },
  {
   "cell_type": "code",
   "execution_count": 11,
   "id": "44ecae11",
   "metadata": {},
   "outputs": [
    {
     "data": {
      "text/html": [
       "<div>\n",
       "<style scoped>\n",
       "    .dataframe tbody tr th:only-of-type {\n",
       "        vertical-align: middle;\n",
       "    }\n",
       "\n",
       "    .dataframe tbody tr th {\n",
       "        vertical-align: top;\n",
       "    }\n",
       "\n",
       "    .dataframe thead th {\n",
       "        text-align: right;\n",
       "    }\n",
       "</style>\n",
       "<table border=\"1\" class=\"dataframe\">\n",
       "  <thead>\n",
       "    <tr style=\"text-align: right;\">\n",
       "      <th></th>\n",
       "      <th>Hours</th>\n",
       "    </tr>\n",
       "  </thead>\n",
       "  <tbody>\n",
       "    <tr>\n",
       "      <th>16</th>\n",
       "      <td>2.5</td>\n",
       "    </tr>\n",
       "    <tr>\n",
       "      <th>17</th>\n",
       "      <td>1.9</td>\n",
       "    </tr>\n",
       "    <tr>\n",
       "      <th>18</th>\n",
       "      <td>6.1</td>\n",
       "    </tr>\n",
       "    <tr>\n",
       "      <th>19</th>\n",
       "      <td>7.4</td>\n",
       "    </tr>\n",
       "    <tr>\n",
       "      <th>20</th>\n",
       "      <td>2.7</td>\n",
       "    </tr>\n",
       "    <tr>\n",
       "      <th>21</th>\n",
       "      <td>4.8</td>\n",
       "    </tr>\n",
       "    <tr>\n",
       "      <th>22</th>\n",
       "      <td>3.8</td>\n",
       "    </tr>\n",
       "    <tr>\n",
       "      <th>23</th>\n",
       "      <td>6.9</td>\n",
       "    </tr>\n",
       "    <tr>\n",
       "      <th>24</th>\n",
       "      <td>7.8</td>\n",
       "    </tr>\n",
       "  </tbody>\n",
       "</table>\n",
       "</div>"
      ],
      "text/plain": [
       "    Hours\n",
       "16    2.5\n",
       "17    1.9\n",
       "18    6.1\n",
       "19    7.4\n",
       "20    2.7\n",
       "21    4.8\n",
       "22    3.8\n",
       "23    6.9\n",
       "24    7.8"
      ]
     },
     "execution_count": 11,
     "metadata": {},
     "output_type": "execute_result"
    }
   ],
   "source": [
    "x_test=test.drop('Scores',axis=1)\n",
    "x_test"
   ]
  },
  {
   "cell_type": "code",
   "execution_count": 12,
   "id": "6bcdedda",
   "metadata": {},
   "outputs": [],
   "source": [
    "#true predication\n",
    "y_test=test['Scores']"
   ]
  },
  {
   "cell_type": "markdown",
   "id": "f04dcef5",
   "metadata": {},
   "source": [
    "# training the algorithm"
   ]
  },
  {
   "cell_type": "markdown",
   "id": "cf86f3a3",
   "metadata": {},
   "source": [
    "from scikit learn library impoting linearregression model to train our data"
   ]
  },
  {
   "cell_type": "code",
   "execution_count": 13,
   "id": "e20be17d",
   "metadata": {},
   "outputs": [],
   "source": [
    "from sklearn.linear_model import LinearRegression"
   ]
  },
  {
   "cell_type": "markdown",
   "id": "ea7c0fa7",
   "metadata": {},
   "source": [
    "sucessfully imported linear regression"
   ]
  },
  {
   "cell_type": "markdown",
   "id": "5fbf55ae",
   "metadata": {},
   "source": [
    "training the our data"
   ]
  },
  {
   "cell_type": "code",
   "execution_count": 14,
   "id": "e46eb187",
   "metadata": {},
   "outputs": [
    {
     "data": {
      "text/plain": [
       "LinearRegression()"
      ]
     },
     "execution_count": 14,
     "metadata": {},
     "output_type": "execute_result"
    }
   ],
   "source": [
    "lreg=LinearRegression()\n",
    "lreg.fit(x_train,y_train)"
   ]
  },
  {
   "cell_type": "markdown",
   "id": "ca76760b",
   "metadata": {},
   "source": [
    "# predication"
   ]
  },
  {
   "cell_type": "markdown",
   "id": "9746019b",
   "metadata": {},
   "source": [
    "our model  now ready to predict values lets chek for our test data"
   ]
  },
  {
   "cell_type": "code",
   "execution_count": 15,
   "id": "1fc5d87e",
   "metadata": {},
   "outputs": [
    {
     "data": {
      "text/plain": [
       "array([25.86233601, 20.03331247, 60.83647721, 73.46602821, 27.80534385,\n",
       "       48.20692622, 38.491887  , 68.60850859, 77.3520439 ])"
      ]
     },
     "execution_count": 15,
     "metadata": {},
     "output_type": "execute_result"
    }
   ],
   "source": [
    "pred=lreg.predict(x_test)\n",
    "pred"
   ]
  },
  {
   "cell_type": "markdown",
   "id": "0a5c2c4a",
   "metadata": {},
   "source": [
    "now our y_test that is actual values"
   ]
  },
  {
   "cell_type": "code",
   "execution_count": 16,
   "id": "e8307e28",
   "metadata": {},
   "outputs": [
    {
     "data": {
      "text/plain": [
       "16    30\n",
       "17    24\n",
       "18    67\n",
       "19    69\n",
       "20    30\n",
       "21    54\n",
       "22    35\n",
       "23    76\n",
       "24    86\n",
       "Name: Scores, dtype: int64"
      ]
     },
     "execution_count": 16,
     "metadata": {},
     "output_type": "execute_result"
    }
   ],
   "source": [
    "y_test"
   ]
  },
  {
   "cell_type": "markdown",
   "id": "b39ef12d",
   "metadata": {},
   "source": [
    "arrange both true value and  predicted value in columns to betterr understand how accuratly our model predict"
   ]
  },
  {
   "cell_type": "code",
   "execution_count": 17,
   "id": "0b2b0abd",
   "metadata": {},
   "outputs": [
    {
     "data": {
      "text/html": [
       "<div>\n",
       "<style scoped>\n",
       "    .dataframe tbody tr th:only-of-type {\n",
       "        vertical-align: middle;\n",
       "    }\n",
       "\n",
       "    .dataframe tbody tr th {\n",
       "        vertical-align: top;\n",
       "    }\n",
       "\n",
       "    .dataframe thead th {\n",
       "        text-align: right;\n",
       "    }\n",
       "</style>\n",
       "<table border=\"1\" class=\"dataframe\">\n",
       "  <thead>\n",
       "    <tr style=\"text-align: right;\">\n",
       "      <th></th>\n",
       "      <th>Actual</th>\n",
       "      <th>predicted</th>\n",
       "    </tr>\n",
       "  </thead>\n",
       "  <tbody>\n",
       "    <tr>\n",
       "      <th>16</th>\n",
       "      <td>30</td>\n",
       "      <td>25.862336</td>\n",
       "    </tr>\n",
       "    <tr>\n",
       "      <th>17</th>\n",
       "      <td>24</td>\n",
       "      <td>20.033312</td>\n",
       "    </tr>\n",
       "    <tr>\n",
       "      <th>18</th>\n",
       "      <td>67</td>\n",
       "      <td>60.836477</td>\n",
       "    </tr>\n",
       "    <tr>\n",
       "      <th>19</th>\n",
       "      <td>69</td>\n",
       "      <td>73.466028</td>\n",
       "    </tr>\n",
       "    <tr>\n",
       "      <th>20</th>\n",
       "      <td>30</td>\n",
       "      <td>27.805344</td>\n",
       "    </tr>\n",
       "    <tr>\n",
       "      <th>21</th>\n",
       "      <td>54</td>\n",
       "      <td>48.206926</td>\n",
       "    </tr>\n",
       "    <tr>\n",
       "      <th>22</th>\n",
       "      <td>35</td>\n",
       "      <td>38.491887</td>\n",
       "    </tr>\n",
       "    <tr>\n",
       "      <th>23</th>\n",
       "      <td>76</td>\n",
       "      <td>68.608509</td>\n",
       "    </tr>\n",
       "    <tr>\n",
       "      <th>24</th>\n",
       "      <td>86</td>\n",
       "      <td>77.352044</td>\n",
       "    </tr>\n",
       "  </tbody>\n",
       "</table>\n",
       "</div>"
      ],
      "text/plain": [
       "    Actual  predicted\n",
       "16      30  25.862336\n",
       "17      24  20.033312\n",
       "18      67  60.836477\n",
       "19      69  73.466028\n",
       "20      30  27.805344\n",
       "21      54  48.206926\n",
       "22      35  38.491887\n",
       "23      76  68.608509\n",
       "24      86  77.352044"
      ]
     },
     "execution_count": 17,
     "metadata": {},
     "output_type": "execute_result"
    }
   ],
   "source": [
    "dataframe=pd.DataFrame({'Actual':y_test,'predicted':pred})\n",
    "dataframe"
   ]
  },
  {
   "cell_type": "code",
   "execution_count": 18,
   "id": "e4ab5d03",
   "metadata": {},
   "outputs": [
    {
     "data": {
      "text/plain": [
       "0.9368811005792516"
      ]
     },
     "execution_count": 18,
     "metadata": {},
     "output_type": "execute_result"
    }
   ],
   "source": [
    "lreg.score(x_test,y_test)"
   ]
  },
  {
   "cell_type": "code",
   "execution_count": 19,
   "id": "b12aa22c",
   "metadata": {},
   "outputs": [
    {
     "data": {
      "text/plain": [
       "0.955760739157577"
      ]
     },
     "execution_count": 19,
     "metadata": {},
     "output_type": "execute_result"
    }
   ],
   "source": [
    "lreg.score(x_train,y_train)"
   ]
  },
  {
   "cell_type": "markdown",
   "id": "313f1cd3",
   "metadata": {},
   "source": [
    "hence from above score is closely releted our training is done well"
   ]
  },
  {
   "cell_type": "markdown",
   "id": "5fdff175",
   "metadata": {},
   "source": [
    "# to chek for 9.25 hours"
   ]
  },
  {
   "cell_type": "markdown",
   "id": "dcbd215f",
   "metadata": {},
   "source": [
    "now to predict the marks for 9.25 hours of study"
   ]
  },
  {
   "cell_type": "code",
   "execution_count": 20,
   "id": "5bb189a5",
   "metadata": {},
   "outputs": [],
   "source": [
    "new_output=lreg.predict([[9.25]])"
   ]
  },
  {
   "cell_type": "code",
   "execution_count": 21,
   "id": "172bd186",
   "metadata": {},
   "outputs": [
    {
     "data": {
      "text/plain": [
       "array([91.43885077])"
      ]
     },
     "execution_count": 21,
     "metadata": {},
     "output_type": "execute_result"
    }
   ],
   "source": [
    "new_output"
   ]
  },
  {
   "cell_type": "code",
   "execution_count": null,
   "id": "c249bd51",
   "metadata": {},
   "outputs": [],
   "source": []
  }
 ],
 "metadata": {
  "kernelspec": {
   "display_name": "Python 3",
   "language": "python",
   "name": "python3"
  },
  "language_info": {
   "codemirror_mode": {
    "name": "ipython",
    "version": 3
   },
   "file_extension": ".py",
   "mimetype": "text/x-python",
   "name": "python",
   "nbconvert_exporter": "python",
   "pygments_lexer": "ipython3",
   "version": "3.8.8"
  }
 },
 "nbformat": 4,
 "nbformat_minor": 5
}
